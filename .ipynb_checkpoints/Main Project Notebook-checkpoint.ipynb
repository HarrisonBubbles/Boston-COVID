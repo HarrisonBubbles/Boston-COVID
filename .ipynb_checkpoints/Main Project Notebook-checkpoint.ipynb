{
 "cells": [
  {
   "cell_type": "markdown",
   "metadata": {
    "id": "i5uIJfMoFkGg"
   },
   "source": [
    "# A Comparative Study of Boston’s Approach to COVID-19\n",
    "by Harris Bubalo, Justin Cramer, Rohan Chaturvedi, Michael Baraty, and Justin Bian"
   ]
  },
  {
   "cell_type": "markdown",
   "metadata": {
    "id": "HgIBBAEOF1Hc"
   },
   "source": [
    "## Motivation and Research Question\n",
    "\n",
    "Throughout the COVID-19 crisis, Boston has adhered to the state of Massachusetts' 4-Phase plan for reopening$.^{14}$ The initial goal for this plan was to gradually resume operation of businesses, services, and activities as the pandemic weakened; Phase 1 would have the most restrictions, as it would be earlier on in the pandemic, while Phase 4 would be preparing for a \"new normal.\" However, as expected with an international pandemic, things did not always go according to plan. Most notably, former Boston Mayor Marty Walsh rolled the city back to Phase 2, Step 2 of the reopening plan following a massive surge in holiday COVID cases. At the time—around late December and early January—most other towns in Massachusetts were in Phase 3, Step 1 of the plan, so this decision by Walsh signified a conscious effort to curb Boston's unfavorable disease trends.\n",
    "\n",
    ">\"We're going to take action now to reduce in-person activity in our city … and prevent our hospitals from getting overwhelmed,\" Walsh said at a coronavirus briefing$.^{17}$\n",
    "\n",
    "With this policy decision in mind, we began to wonder what choices other municipal governments across the United States were making with regards to COVID-19. If the city of Boston could deviate from state expectations in order to protect its citizens, were other cities doing the same? If so, were these policies effective? Through this line of thinking and questioning, we arrived at the following **research question**:\n",
    "\n",
    "> How have other U.S. cities responded to the COVID crisis, and what can they tell us about the quality of Boston’s approach, as well as the state of Boston?\n",
    "\n",
    "The main idea behind our developed research question—and the reason we find our resarch important for understanding the current state of Boston—is that, because the COVID-19 crisis is *the* most monumental current event right now, utilizing a comparative study focused on the relation between Boston's government and the virus can reveal a lot about Boston itself. In many ways, the disease has shook this country at its very foundation; From mask mandates, business closures, stimulus packages, and more, the pandemic has proven itself to be the ultimate test of effectiveness for governments, and can be used to acknowledge flaws within Boston's infrastructure. On top of this, our research goes a step further than reviewing Boston's COVID experience alone, as juxtaposing it with other US cities allows us to identify common COVID-induced problems. If an issue is shared between Boston and other cities, do the other cities handle them better? If an issue is unique to Boston, what is the historical context to said issue and how should it be addressed? Through all this, our **main goal is to reveal problems in Boston's government, infrastructure, economy, and more, and discuss ways the city may be bettered for the future.**  "
   ]
  },
  {
   "cell_type": "markdown",
   "metadata": {
    "id": "wg0kI1I1ZdS4"
   },
   "source": [
    "## Tools and Methods\n",
    "\n",
    "### Technologies\n",
    "\n",
    "To accomplish our research goals, we used the following technologies:\n",
    "\n",
    "* Jupyter Notebook (obviously)\n",
    "* Pandas\n",
    "  * CSV reading, data frame creation\n",
    "* Plotly\n",
    "  * Chloropleth map visualization\n",
    "* GeoJSON/JSON\n",
    "  * Encodes zip code boundary lines to map for our choropleth maps\n",
    "* Censusdata (Python package)\n",
    "  * Allowed us to easily retrieve data from the Census ACS and import it into Jupyter Notebook\n",
    "\n",
    "### Project Approach\n",
    "\n",
    "Before we could begin our research, we first had to choose which other cities we would be studying in tandem with Boston. This was a crucial step in our process, as we wished to choose cities that could teach us a lot about Boston, given the time we had to work on the project. For instance, if we were to select a town in the Greater Boston area, we would anticipate that the findings would be expectedly similar to Boston itself and thus not a good choice. Conversely, though we initially thought it could be useful to study non-US cities, we eventually concluded that it would be difficult to collect such data and that potentially large cultural differences would make it difficult to comment on a US city like Boston. After some deliberation, we decided it would be best to pick a pair of US cities: one that is demographically similar to Boston, and one that is demographically different. Doing this would enable us to more easily identify any unique traits Boston may have; We would expect the demographically similar city to have similar COVID trends to Boston (vice versa for the demographically different city), so any exception would be grounds for qualitative/contextual/historical analysis.\n",
    "\n",
    "The cities we decided on are...\n",
    "* New York City, New York\n",
    "* Virginia Beach, Virginia\n",
    "\n",
    "Reasons for NYC:\n",
    "* It is a Northeastern city, just like Boston.\n",
    "* It is the most populated city in the US, as well as the most dense, so we figured it would be interesting to see how they addressed these circumstances when it comes to virus containment.\n",
    "* Similar to Boston, NYC was one of the first cities in the US to be hit hard by COVID.\n",
    "* NYC is politically \"blue\", just like Boston, so we hoped to see if this influenced policy decisions.\n",
    "* COVID data was readily available.\n",
    "\n",
    "Reasons for VB:\n",
    "* It is a Southern-ish city, so environmentally quite different from Boston.\n",
    "* It is politically \"red\", so we hoped to see if republican cities had a different approach to COVID-19, and whether or not it is more effective than a democrat city such as Boston.\n",
    "* Like the name suggests, Virginia Beach has a beach and tourist economy, so we were interested to see how they handled the opening of their beaches during the pandemic, and whether or not that affected COVID rates.\n",
    "* COVID data was readily available.\n",
    "\n",
    "After we had the cities chosen, the next step to our approach was to create neighborhood-level chloropleth maps for each of the cities that visually depict the relationship between COVID positivity rates and a variety of Census demographic variables (these variables are explained in the *Our Datasets* section). Through these maps, we would be able to observe which variables are correlated with COVID positivity, and whether or not these correlations hold across one or more of our cities. After that, we would conduct contextual research—mainly through journalistic articles and municipal websites—to determine what policies or programs our cities have enacted to address these trends. With this, we will be able to assess how cities have tried to stop the spread of COVID, as well as how they have tried to remedy COVID-caused issues. Lastly, and the main purpose of all this, we would judge how Boston lies relative to other cities and see what conclusions can be drawn about the city of Boston. Due to the nature of our approach, our study is highly qualitative. "
   ]
  },
  {
   "cell_type": "markdown",
   "metadata": {
    "id": "qNk-atqUZ9Bd"
   },
   "source": [
    "## Our Datasets\n",
    "\n",
    "The data that we gathered for our research falls into two distinct categories: COVID data and demographic data.\n",
    "\n",
    "#### COVID Data\n",
    "\n",
    "For each of our chosen cities, we required ZTCA level COVID data in order to properly construct our maps. Luckily, each city's and/or state's health department readily publishes positivity rate information online.\n",
    "\n",
    "* Boston\n",
    "  * Boston Public Health Commission (BPHC)$^{11}$\n",
    "* NYC\n",
    "  * NYC Health$^{21}$\n",
    "* Virginia Beach\n",
    "  * Virginia Department of Health (VDH)$^9$\n",
    "\n",
    "#### Demographic Data\n",
    "\n",
    "Once we had COVID data for each of our cities, we then had to choose demographic variables. We would examine the relationship between these variables and the COVID positivity rates, so it was important for us to choose variables that we would expect to have some sort of correlation with the virus. Eventually, we decided on these four:\n",
    "\n",
    "* Population Density\n",
    "  * Because viruses thrive in locations with many people, we wondered if dense neighborhoods/cities struggle with COVID more and whether or not their policies are stricter because of that.\n",
    "* Wealth\n",
    "  * Examined median family income per neighborhood.\n",
    "  * COVID-19 has shook the economy to its core, so we thought it'd be interesting to see if those who are poorer suffer because of it.\n",
    "* Transportation to Work\n",
    "  * Examined means of getting to work, particularly travel by car/van.\n",
    "  * We expect public transport to have been limited/changed during the pandemic, so we wanted to see if those who travel in their own vehicles are thus less likely to have gotten the virus.\n",
    "* Race\n",
    "  * Examined proportion of White residents per neighborhood.\n",
    "  * While the relationship between race and COVID positivity is obviously not causal, race is often correlated with wealth. Because we are studying wealth, we thought it would be worthwhile then to see if race is correlated with COVID in any of our citites. \n",
    "\n",
    "We retrieved population density from the US Census Bureau$^{27}$, while the other varaibles are from the 5-year American Community Survey (ACS) from 2019.$^{1}$"
   ]
  },
  {
   "cell_type": "markdown",
   "metadata": {
    "id": "bnHg6V9i_kg_"
   },
   "source": [
    "## Reading the Data\n",
    "\n",
    "Refer \"Main Project Data Preparation FINAL.ipynb\" and \"Map Analysis.ipynb\" for more in-depth information about our data organization/manipulation choices, as well as information about how we constructed our maps."
   ]
  },
  {
   "cell_type": "markdown",
   "metadata": {
    "id": "pqXb68hTbIfU"
   },
   "source": [
    "## Analysis"
   ]
  },
  {
   "cell_type": "code",
   "execution_count": 1,
   "metadata": {
    "id": "bnam3Y0q8VpH"
   },
   "outputs": [],
   "source": [
    "import pandas as pd"
   ]
  },
  {
   "cell_type": "code",
   "execution_count": 2,
   "metadata": {
    "id": "bcLIGSWuGNvi"
   },
   "outputs": [],
   "source": [
    "boston_data = pd.read_csv('boston_neighborhood_data.csv', dtype={'zipcode':'str'})\n",
    "nyc_data = pd.read_csv('nyc_neighborhood_data.csv', dtype={'zipcode':'str'})\n",
    "vb_data = pd.read_csv('vb_neighborhood_data.csv', dtype={'zipcode':'str'})"
   ]
  },
  {
   "cell_type": "markdown",
   "metadata": {
    "id": "gYlf44pKGSvf"
   },
   "source": [
    "### Positivity Rate Comparison\n",
    "\n",
    "<img src=\"Maps/cities_positivity_rates.png\">\n",
    "\n",
    "**Note**: *Some blank spots can be seen on our maps. In some cases, this makes sense (i.e. no one lives in Central Park in NYC, so the blank spot there is reasonable). However, certain inhabitated zipcodes were missing data. We're not entirely sure why this is for these areas, but for our purposes it shouldn't matter, as we have a largely completed map.*\n",
    "\n",
    "Initially we see that Boston neighborhood positivity rates are much more variable than in Virginia Beach and even than in New York City. The total area of Boston is much smaller than that of Virginia Beach without much larger of a population, so we wouldn't expect the positivity rates to be so much more variable. Both the area and population of Boston is much smaller than that of NYC, so we would expect the rates to be homogeneous in Boston as well. We confirm that the rates in Boston have a higher variance than in the other cities:"
   ]
  },
  {
   "cell_type": "code",
   "execution_count": 3,
   "metadata": {
    "colab": {
     "base_uri": "https://localhost:8080/"
    },
    "executionInfo": {
     "elapsed": 328,
     "status": "ok",
     "timestamp": 1619623795967,
     "user": {
      "displayName": "Justin Cramer",
      "photoUrl": "",
      "userId": "14451700176939391219"
     },
     "user_tz": 240
    },
    "id": "SZj_iZhNGb3-",
    "outputId": "e3f44c88-d7f5-4e60-bbd8-bd1045597e6a"
   },
   "outputs": [
    {
     "name": "stdout",
     "output_type": "stream",
     "text": [
      "Boston Standard Deviation: 0.045 Mean: 0.107\n",
      "NYC Standard Deviation: 0.039 Mean: 0.14\n",
      "Virginia Beach Standard Deviation: 0.015 Mean: 0.106\n"
     ]
    }
   ],
   "source": [
    "print('Boston Standard Deviation:', round(boston_data['positive_rate'].std(), 3), 'Mean:', round(boston_data['positive_rate'].mean(), 3))\n",
    "print('NYC Standard Deviation:', round(nyc_data['positive_rate'].std(), 3), 'Mean:', round(nyc_data['positive_rate'].mean(), 3))\n",
    "print('Virginia Beach Standard Deviation:', round(vb_data['positive_rate'].std(), 3), 'Mean:', round(vb_data['positive_rate'].mean(), 3))"
   ]
  },
  {
   "cell_type": "markdown",
   "metadata": {
    "id": "-8Yj2v5vbPXd"
   },
   "source": [
    "### Variable 1: Population Density\n",
    "\n",
    "In searching for what underlies this variability in Boston positivity rates, we first decided to examine population density. We assumed that places with larger population density would have greater positivity rates, as people are more likely to come into close contact with others and transmit the virus.\n",
    "\n",
    "#### Boston's Maps\n",
    "\n",
    "<img src=\"Maps/boston_density.png\">\n",
    "\n",
    "In Boston we see that variance in positivity rates look somewhat explained by population density, but not in the way that we expected: more densely populated areas tend to have lower positivity rates.\n",
    "\n",
    "#### The Others' Maps \n",
    "\n",
    "<img src=\"Maps/nyc_vb_density.png\">\n",
    "\n",
    "We see a similar trend in NYC, particularly around the Bronx and Staten Island areas. The relationship in unclear in Virginia Beach—however, the range of population density is much smaller in Virginia Beach, as is positivity rate. A difference of a few thousand people per square mile probably wouldn't cause much of a difference in positivity rates when considering the range of population densities in the other cities. Though it is interesting to note that as Virginia Beach has a much lower variance in positivity rates, they also have much lower variance in population density—Virginia Beach appears much more homogeneous across both these variables.\n",
    "\n",
    "We thought perhaps wealth was underlying this counterintuitive trend. Maybe in more densely populated areas of these large cities—areas close to the city centers where the cost of living is higher, such as Fenway or the Seaport District in Boston and the Upper East Side in NYC—people are wealthier and they have the leisure and resources to limit their exposure to COVID by taking means such as working from home, getting delivery, etc.\n",
    "\n",
    "#### Boston and Population Density\n",
    "\n",
    "As mentioned before, Boston follows the state of Massachusetts’ 4-Phase plan for reopening. Since March 22, 2021, the city has been in Phase 4, Step 1 of this plan. However, in terms of crowd control and limiting human contact, Boston has shown itself to be stricter than the state standard. For instance, when it comes to limiting public gatherings, Boston currently has a maximum of 60 indoors and 100 outdoors, as opposed to the state’s 100 and 150. Furthermore, as the state progresses to Phase 4, Step 2 of the reopening plan (effective April 30, 2021), Boston has decided to delay its own progress by three weeks.$^{14}$ Through some of these policies—along with Marty Walsh’s decision to roll back the reopening plan after the holiday season—the Boston government has acknowledged that the city’s COVID circumstances are different than other parts of Massachusetts, and thus has enacted more specific policies to reflect that.\n",
    "\n",
    "#### NYC and Population Density\n",
    "\n",
    "Similar to Boston and Massachusetts, NYC follows New York State’s phase-based plan known as NY Forward, while also having extra guidelines through its own program called RESTART. One such guideline implemented through RESTART is that certain neighborhoods are given color labels—either Red, Orange, or Yellow—and these labels dictate the severity of restrictions on businesses and schools in that area.$^{12}$\n",
    "\n",
    "#### Virginia Beach and Population Density\n",
    "\n",
    "While Virginia Beach does implement the expected restrictions when it comes to outdoor gatherings (staying six feet apart, mandating masks, group capacities, etc.), it is interesting to see that their beaches have remained open through most of the pandemic.$^6$ Beaches are a significant part of their tourism industry, so the decision makes sense from an economic perspective, but this decision could prove to be a poor one as the summer approaches. Regardless, Virginia Beach still has less positivity than Boston, so this could indicate that the spread of COVID is more entrenched within the infrastructures of cities like Boston or NYC, and thus cannot be as remedied in exactly the same way.\n",
    "\n",
    "\n",
    "#### Takeaways\n",
    "\n",
    "* Boston and NYC have similarly strict approaches, while VB prioritizes their economy in some regards\n",
    "* In general, however, all three cities do implement expected policies when it comes to business closures, group limitations, etc.\n",
    "* Because of this, compounded with the fact that we’ve seen through our maps that population density in Boston and NYC is not correlated with COVID positivity, the containment of COVID in cities like Boston seems to be more complicated than simply limiting gatherings. Rather, more complex, infrastructural issues may explain why less dense areas seem to have more cases.\n",
    "* Speaking of more complex issues, we move onto wealth.\n"
   ]
  },
  {
   "cell_type": "markdown",
   "metadata": {
    "id": "z0Rk_ehhcjqu"
   },
   "source": [
    "### Variable 2: Wealth\n",
    "\n",
    "#### Boston's Maps\n",
    "\n",
    "<img src=\"Maps/boston_income.png\">\n",
    "\n",
    "There appears to be an inverse correlation between median household income and positivity rate in Boston. The exception is the Fenway and Roxbury areas, but this could be skewed by the neighborhoods' large student populations reporting their low (or non-existant) student incomes.\n",
    "\n",
    "#### The Others' Maps\n",
    "\n",
    "<img src=\"Maps/nyc_vb_income.png\">\n",
    "\n",
    "We see that median household income is more correlated with positivity rates than population density is in Virginia Beach. The relationship mainly holds in NYC as well, with the exception of the Staten Island area: Staten Island tends to generally have higher median household income, but has very high positivity rates.\n",
    "\n",
    "\n",
    "#### Boston and Wealth\n",
    "\n",
    "On top of stimulus checks provided by the CARES act, the city of Boston has launched a multitude of relief programs to aid citizens who have been financially affected by the COVID-19 crisis. For example, in order to assist people threatened by eviction, the city cooperated with 12 of its largest housing lenders to offer three months of mortgage payment deferment to those in need. Regarding the program, Marty Walsh said this:\n",
    "\n",
    "> \"No person should have to worry about losing their home right now. During these times of global uncertainty, homeowners and renters in Boston can be certain that we are doing everything we can to help ease the burden brought on by this pandemic and give them much-needed flexibility. I want to thank our lender partners who have stepped up to the plate to meet the needs of our residents during this time, and I encourage others to follow suit. Now more than ever, we have to work together to make sure that we can keep people in their homes.\"$^{22}$\n",
    "\n",
    "Similar support exists for renters, the homeless, and small businesses.$^{13}$\n",
    "\n",
    "Aside from strictly monetary support, another notable initiative is the Boston Eats program, which provides free meals to Boston youth ages 18 and under. Currently, there are over 60 meal sites throughout the city.$^3$\n",
    "\n",
    "#### NYC and Wealth\n",
    "\n",
    "Like Boston, NYC has also worked to assist those threatened with eviction, mainly through the COVID Rent Relief Program (COVIDRRP).$^8$ On top of this, their COVID-19 Emergency Relief Fund takes donations in order to essential workers, small businesses, displaced workers, and families in need.$^{10}$ Lastly, Get Food NYC works to distribute food to those in need, similar to the Boston Eats program.$^{25}$\n",
    "\n",
    "#### Virginia Beach and Wealth\n",
    "\n",
    "Virginia Beach also enacted a fair share of relief programs, so the political leaning of the city surprisingly did not seem to play a role in this regard. Just this March, the city awarded an additional 12.4 million dollars to the Virginia Beach Pandemic Relief Partnership, which distributes grants to residents and small businesses.$^7$ Additionally, the City Services Bill Pandemic Relief Program offered assistance to those who struggled to pay their bills.$^5$\n",
    "\n",
    "#### Takeaways\n",
    "\n",
    "* As our maps show, poverty seems to have a very strong correlation with COVID in all of our chosen cities. \n",
    "* As such, all cities address COVID-induced financial issues with their respective relief programs.\n",
    "* However, the question now becomes whether or not these programs are merely band-aids on much larger issues; These initiatives are reactions to COVID and many of them are only operating for a limited time, it will be important to see if these cities will continue similar anti-poverty endeavors once the pandemic is over.\n"
   ]
  },
  {
   "cell_type": "markdown",
   "metadata": {
    "id": "RQzyTbBocoE8"
   },
   "source": [
    "### Variable 3: Public Transportation\n",
    "\n",
    "We initially didn't expect means of transportation to have much of a relationship with positivity rate, but after examination we discovered it has a strong one. We particularly analyze the percent of population that transports to work by car, truck, or van.\n",
    "\n",
    "#### Boston's Maps\n",
    "\n",
    "<img src=\"Maps/boston_transport.png\">\n",
    "\n",
    "There is a strong relationship between the percentage of people transporting to work by automobile and positivity rate: places with higher percentage of people transporting to work by automobile tend to have higher positivity rates. The reason for this is unclear. Some possible explanations are that people with cars (and thus drive to work) are more likely to go out to meet people during COVID, and have more options of places to go that aren't closed due to pandemic, as they aren't limited to walking, biking, or using public transportation. People who drive to work may also work different types of jobs that require them to work in person, in contrast to people who may usually take public transport or walk to white collar jobs that can be done remotely. This is all largely speculative though. \n",
    "\n",
    "#### The Others' Maps\n",
    "\n",
    "<img src=\"Maps/nyc_vb_transport.png\">\n",
    "\n",
    "We see a similar relationships between transportation by autombile in both Virginia Beach and NYC. \n",
    "\n",
    "#### Boston and Transportation\n",
    "\n",
    "As expected, during the early phases of the reopening plan, certain MBTA schedules were altered or completely removed to reduce dense gatherings, and riders were urged to avoid public transit as much as possible. Naturally, ridership plummeted, going as low as less than 40,000 daily riders for subways.$^{19}$ These decisions were likely for the best, as it would have been much easier for the virus to spread if no changes were made, but it is interesting to instead see the correlation between private transportation and COVID in our maps. We wonder if it even would have been possible or necessary to regulate such travel; A path for further research would be to more closely study the confounding factors surrounding COVID and transportation in Boston, as this could be an instance of more complex underlying factors (e.g. wealth, distance from work, public transit availability, etc.).\n",
    "\n",
    "#### NYC and Transportation\n",
    "\n",
    "MTA schedules, like MBTA schedules, were also edited during the early phases of the pandemic. While operation has now largely resumed, masks are required and a disinfection period occurs between 2 a.m. and 4 a.m.$^{20}$\n",
    "\n",
    "#### Virginia Beach and Transportation\n",
    "\n",
    "Though Virginia Beach lacks a subway system like Boston or NYC, Hampton Roads Transit was commended by the American Public Transportation Association for the disinfection process of their buses.$^{15}$\n",
    "\n",
    "#### Takeaways\n",
    "\n",
    "* Like with controlling public gatherings, all of our chosen cities have shown adequate approaches to stopping COVID spread on public transportation.\n",
    "* Private transportation becomes the focus then; Why does the correlation exist between COVID positivity and those who travel by car?\n",
    "We suspect that underlying factors such as wealth may explain it; Wealthier individuals may have the luxury to work at home or very close to where they live, while poorer individuals would have to drive to farther locations, perhaps exposing them to more.\n",
    "* However, this is speculation; We would have to conduct much deeper research into the state of Boston’s workforce, public transit availability, and many other factors before truly asserting these claims (further studies!).\n"
   ]
  },
  {
   "cell_type": "markdown",
   "metadata": {
    "id": "ocO-vlHfcpLm"
   },
   "source": [
    "### Variable 4: Race\n",
    "\n",
    "We decided to also look at race (here we examined the proportion of white, non Hispanic/Latino residents in a neighborhood). Although we know that there is obviously no causal relationship between race and positivity rate, we were curious to see inequality in positivity rates between white and non-white populations.\n",
    "\n",
    "#### Boston and Race\n",
    "\n",
    "<img src=\"Maps/boston_race.png\">\n",
    "\n",
    "We see that neighborhoods with larger percentages of white residents generally have lower positivity rates than areas with lower percentages of white residents.\n",
    "\n",
    "#### The Others and Race\n",
    "\n",
    "<img src=\"Maps/nyc_vb_race.png\">\n",
    "\n",
    "We see a similar relationship in NYC, but interestingly not in Virginia Beach.\n",
    "\n",
    "#### Boston and Race\n",
    "\n",
    "It’s no secret that Boston is a city that is notorious for racial inequity. We’ve discussed some of the racist history of Boston in class with topics such as redlining, but the consequences of such history extend to the present. In 2017, Boston Globe’s “Spotlight” team conducted an infamous investigation, where they discovered the average net worth for a white family in Boston was 247,000 dollars, while for black families it was 0 dollars.$^{16}$ Similar resource inequity is prevalent in healthcare as well, as during the initial stages of vaccine distribution, a Massachusetts health official described the racial disparity in vaccination rates as “really troubling”; 36% of the vaccines were going to white individuals while only 2.6% were going to black individuals.$^4$ Former Boston Mayor Marty Walsh even declared racism itself a “public health crisis”, and with this declaration he also launched the COVID-19 Health Inequities Task Force, which aims to better inform future policy decisions through the analysis and emphasis of minority COVID data.$^{18}$ Speaking on the matter of healthcare and racism, Marty Walsh said this:\n",
    "\n",
    "> “There is no doubt that throughout history communities of color have faced discrimination and outright cruelty in the health care system. This is a tragic outcome from systemic racism in our country.”$^{26}$\n",
    "\n",
    "Similarly, current Boston mayor Kim Janey said this with regards to making Boston a more equitable place after the pandemic:\n",
    "\n",
    "> “We cannot go back to normal. I know, people are anxious to get on with their lives, put this pandemic behind us. And I certainly want to do that as well, put the pandemic behind us. But we have to come out of this pandemic stronger than before.” $^{23}$\n",
    "\n",
    "While it’s difficult to tell if these comments are sincere or simply empty political platitudes, it is important to keep in mind that Kim Janey has recently become the first black and female mayor of Boston. Hopefully this, as well as Marty Walsh’s decision to launch the COVID-19 Health Inequities Task Force, are indicative of a more progressive future for Boston.\n",
    "\n",
    "#### NYC and Race\n",
    "\n",
    "Similar to Marty Walsh’s creation of the COVID-19 Health Inequities Task Force, NYC Mayor Bill de Blasio has recently launched the Racial Justice Commision to combat systemic racism within the city. While Boston’s task force mainly focuses on discrimination in healthcare, the Racial Justice Commision aims to dismantle racism throughout all facets of the city. De Blasio explains the commission's goals as such:\n",
    "\n",
    "> “Our mission is to root out systemic racism across New York City. The Racial Justice Commission has the power to put forth permanent, transformative ideas for our government and our city. This moment demands nothing less. This undertaking is unprecedented but I believe this extraordinary group of leaders, visionaries, and public servants have the ability to put forth a tangible vision to continue dismantling and obliterating centuries of racial oppression.”$^{24}$\n",
    "\n",
    "While the actual impact of this commission remains to be seen, this definitely marks a step in the right direction for the city of New York.\n",
    "\n",
    "#### Virginia Beach and Race\n",
    "\n",
    "As shown by our maps, VB does not seem to have the correlation between race and COVID positivity that cities like Boston and NYC have. Interestingly, this is reflected by the fact that, through our qualitative research, we were unable to find any race-based COVID initiatives launched by the VB government. This is not to suggest that racism is negligible in VB or that race-based programs do not exist there, as private organizations such as the Hampton Roads Community Fund have been supporting black communities for years.$^2$ Rather, the lack of COVID & race-based initiatives by the VB government could suggest more about cities like Boston or NYC, where such racial trends are more apparent. Because of the more apparent issue in these cities, they have a more pressing responsibility to address it and right their past wrongs.\n",
    "\n",
    "#### Takeaways\n",
    "\n",
    "* Boston and NYC maps have shown that COVID/race correlation is a pressing issue.\n",
    "* As such, these cities have launched initiatives to right their past wrongs.\n",
    "* Lack of such correlation and initiatives in VB emphasizes the added responsibility that cities like Boston and NYC have to address racial disparity.\n"
   ]
  },
  {
   "cell_type": "markdown",
   "metadata": {
    "id": "k0TkV7H4ZLC1"
   },
   "source": [
    "### Testing Rate\n",
    "\n",
    "We decided to take a last-minute look at testing rate throughout the cities. Here, our measure of testing rate is number of tests divided by the total population (so in some cases it is over 1).\n",
    "\n"
   ]
  },
  {
   "cell_type": "code",
   "execution_count": 4,
   "metadata": {
    "id": "V5naq8Ro8VpJ"
   },
   "outputs": [],
   "source": [
    "vb_neighborhood_data = pd.read_csv(\"vb_neighborhood_data.csv\", index_col=0, dtype={'zipcode':'str'})\n",
    "nyc_neighborhood_data = pd.read_csv(\"nyc_neighborhood_data.csv\", index_col=0, dtype={'zipcode':'str'})\n",
    "boston_neighborhood_data = pd.read_csv(\"boston_neighborhood_data.csv\", index_col=0, dtype={'zipcode':'str'})"
   ]
  },
  {
   "cell_type": "code",
   "execution_count": 5,
   "metadata": {
    "colab": {
     "base_uri": "https://localhost:8080/",
     "height": 201
    },
    "executionInfo": {
     "elapsed": 413,
     "status": "error",
     "timestamp": 1619630905550,
     "user": {
      "displayName": "Harris Bubalo",
      "photoUrl": "",
      "userId": "07700527999480403229"
     },
     "user_tz": 240
    },
    "id": "TwNJn0UAZKjn",
    "outputId": "ae2128df-aed9-4732-c430-22b7b207f382"
   },
   "outputs": [
    {
     "name": "stdout",
     "output_type": "stream",
     "text": [
      "Boston:\n",
      "count    30.000000\n",
      "mean      3.117383\n",
      "std       2.613870\n",
      "min       0.592100\n",
      "25%       1.321394\n",
      "50%       1.915225\n",
      "75%       6.159301\n",
      "max       7.230274\n",
      "Name: test_rate, dtype: float64\n",
      "\n",
      "NYC:\n",
      "count    176.000000\n",
      "mean       0.648883\n",
      "std        0.080384\n",
      "min        0.528648\n",
      "25%        0.600206\n",
      "50%        0.636249\n",
      "75%        0.675747\n",
      "max        0.971241\n",
      "Name: test_rate, dtype: float64\n",
      "\n",
      "Virginia Beach:\n",
      "count    12.000000\n",
      "mean      0.757374\n",
      "std       0.284755\n",
      "min       0.596651\n",
      "25%       0.623051\n",
      "50%       0.677936\n",
      "75%       0.701360\n",
      "max       1.629139\n",
      "Name: test_rate, dtype: float64\n"
     ]
    }
   ],
   "source": [
    "print('Boston:')\n",
    "print(boston_neighborhood_data['test_rate'].describe())\n",
    "print('\\nNYC:')\n",
    "print(nyc_neighborhood_data['test_rate'].describe())\n",
    "print('\\nVirginia Beach:')\n",
    "print(vb_neighborhood_data['test_rate'].describe())"
   ]
  },
  {
   "cell_type": "markdown",
   "metadata": {
    "id": "X7LGNuunZo5L"
   },
   "source": [
    "The Boston testing rates appear to much higher than those in NYC and Virginia Beach, but much more variable as well."
   ]
  },
  {
   "cell_type": "code",
   "execution_count": 6,
   "metadata": {
    "id": "PUEK9MPdZttp",
    "outputId": "3a47c99e-05be-416a-d879-3e655a2f935b"
   },
   "outputs": [
    {
     "name": "stdout",
     "output_type": "stream",
     "text": [
      "Boston:\n",
      "Car/Truck/Van, carpool   -0.855487\n",
      "positive_rate            -0.817521\n",
      "Car/Truck/Van            -0.809589\n",
      "Car/Truck/Van, alone     -0.791865\n",
      "Black, Hispanic/Latino   -0.746876\n",
      "Name: test_rate, dtype: float64\n",
      "Total, not Hispanic/Latino    0.716883\n",
      "PI, not Hispanic/Latino       0.734172\n",
      "Walk                          0.848216\n",
      "Population Density            0.855033\n",
      "number_tests                  0.940468\n",
      "Name: test_rate, dtype: float64\n"
     ]
    }
   ],
   "source": [
    "print('Boston:')\n",
    "print(boston_neighborhood_data.corr('spearman')['test_rate'].sort_values().head())\n",
    "print(boston_neighborhood_data.corr('spearman')['test_rate'].sort_values().tail(6)[:-1])"
   ]
  },
  {
   "cell_type": "markdown",
   "metadata": {
    "id": "KyGcixdg9wqB"
   },
   "source": [
    "Areas with high population densities tend to have much higher testing rates, as well as areas with a larger percentage of people walking to work. This contrasts with areas with larger percentage of people going by car/truck/van to work, which see lower testing rates. Areas with higher positivity rates also see lower testing rates."
   ]
  },
  {
   "cell_type": "code",
   "execution_count": 7,
   "metadata": {
    "id": "J-DsKCb0Z-EI",
    "outputId": "2624f873-31b2-4e6e-bdd0-e5331054de80"
   },
   "outputs": [
    {
     "name": "stdout",
     "output_type": "stream",
     "text": [
      "NYC:\n",
      "1.84 to 1.99           -0.510221\n",
      "Car/Truck/Van          -0.474689\n",
      "1.25 to 1.49           -0.468882\n",
      "1.50 to 1.84           -0.466254\n",
      "Car/Truck/Van, alone   -0.460314\n",
      "Name: test_rate, dtype: float64\n",
      "Work from home                      0.405755\n",
      "Median Family Income                0.434230\n",
      "White, not Hispanic/Latino          0.507392\n",
      "Walk                                0.507625\n",
      "Taxi, Motorcycle, Bike, or Other    0.559373\n",
      "Name: test_rate, dtype: float64\n"
     ]
    }
   ],
   "source": [
    "print('NYC:')\n",
    "print(nyc_neighborhood_data.corr('spearman')['test_rate'].sort_values().head())\n",
    "print(nyc_neighborhood_data.corr('spearman')['test_rate'].sort_values().tail(6)[:-1])"
   ]
  },
  {
   "cell_type": "markdown",
   "metadata": {
    "id": "_2f4Vmbt_Rs-"
   },
   "source": [
    "Income appears to be moderately correlated with testing rates in NYC. Among the most negatively correlated with testing rates are neighborhoods with relatively low income/poverty level ratios, and among the most positively correlated with testing rates is median family income. We also see the same relationship between mode of transportation to work and testing rates as in Boston."
   ]
  },
  {
   "cell_type": "code",
   "execution_count": 8,
   "metadata": {
    "id": "JCaVMUf1Z_e6",
    "outputId": "35c53828-0a56-46c4-bcb2-d4d4ad89dcd7"
   },
   "outputs": [
    {
     "name": "stdout",
     "output_type": "stream",
     "text": [
      "Virginia Beach:\n",
      "2+, Hispanic/Latino                -0.719298\n",
      "2+, Hispanic/Latino, excl. Other   -0.635088\n",
      "positive_rate                      -0.508772\n",
      "1.50 to 1.84                       -0.442922\n",
      "1.25 to 1.49                       -0.397260\n",
      "Name: test_rate, dtype: float64\n",
      "Native, not Hispanic/Latino    0.215553\n",
      "number_tests                   0.256140\n",
      "Population Density             0.305263\n",
      "Walk                           0.305263\n",
      "Under .50                      0.388128\n",
      "Name: test_rate, dtype: float64\n"
     ]
    }
   ],
   "source": [
    "print('Virginia Beach:')\n",
    "print(vb_neighborhood_data.corr('spearman')['test_rate'].sort_values().head())\n",
    "print(vb_neighborhood_data.corr('spearman')['test_rate'].sort_values().tail(6)[:-1])"
   ]
  },
  {
   "cell_type": "markdown",
   "metadata": {
    "id": "fYkPxr8U__rD"
   },
   "source": [
    "Interestingly, the percentage of people with income/poverty level below 0.5 (this is very low) is largely positively correlated to testing rate. We also see the population density and percentage of people walking to work is positively correlated with testing rate, while positivity rate is negatively correlated, as in Boston. "
   ]
  },
  {
   "cell_type": "markdown",
   "metadata": {
    "id": "XveB5mRQaBvB"
   },
   "source": [
    "After looking at Spearman Rank Correlation between testing rate and other variables in the different cities, we noticed that testing rate appears to have similar relationships with other variables as positivity rate does. Higher income areas tend to have higher testing rates, as well as those with higher population densities. Areas with higher proportions of people transporting by automobile to work tend to have lower testing rates. Particularly in Boston, the areas with higher testing rates to have lower positivity rates. In the future we would like to do further analysis of what role testing play in the relationships we observed between positivity rates and other variables, as well as look further into the interpretations of our recently-added testing rate data."
   ]
  },
  {
   "cell_type": "markdown",
   "metadata": {
    "id": "y5bmvYiXlSB9"
   },
   "source": [
    "## Conclusion and Final Thoughts\n",
    "\n",
    "From a broad point of view, the cities we have studied for this project have all largely handled COVID as we would expect. Temporary business and school closures, crowd control restrictions, public transit rescheduling, and more have become universal procedures for limiting the spread of the virus. With this then, the real value of our study comes from observing government response to collateral COVID issues (such as wealth issues), and the comparative nature of our study has allowed us to clearly recognize flaws within the city of Boston. Particularly, we have seen that poverty has a universal correlation with COVID positivity across all our cities, yet the racial trend that is apparent in Boston does not exist in Virginia Beach. This distinction, along with the contextual history we have observed, reiterates Boston’s inequity problems and may explain why our observed COVID trends look the way they do. Some has already been done to address these problems in Boston, such as the various relief programs and the creation of the COVID-19 Health Inequities Task Force, but is it enough? Mayor Kim Janey was correct in saying that “we cannot go back to normal” post-pandemic; Because Boston has shown to have different issues from a city like Virginia Beach, policy-making cannot be a simple run through the motions. Rather, an active effort must be made to better the city, long after COVID is gone.\n"
   ]
  },
  {
   "cell_type": "markdown",
   "metadata": {
    "id": "TmokKAkbdvYD"
   },
   "source": [
    "## Sources\n",
    "\n",
    "1. “ACS Summary File Documentation.” The United States Census Bureau, The United States Census Bureau, 11 Dec. 2019, www.census.gov/programs-surveys/acs/technical-documentation/summary-file-documentation.html. \n",
    "\n",
    "2. “Black Community Partnership Fund.” HamptonRoadscf.org, Hampton Roads Community Foundation, 2021, hamptonroadscf.org/leadership-initiatives/diversity-equity-and-inclusion/black-community-partnership-fund.\n",
    "\n",
    "3. “Boston Eats.” Boston.gov, City of Boston, 10 July 2018, www.boston.gov/departments/food-access/boston-eats. \n",
    "\n",
    "4. Burnell, Brian. “Racial Disparity in Vaccinations Is 'Really Troubling,' Mass. Medical Official Says.” NBC Boston, NBC10 Boston, 30 Jan. 2021, www.nbcboston.com/news/coronavirus/racial-disparity-in-vaccinations-is-really-troubling-mass-medical-official-says/2288947/. \n",
    "\n",
    "5. “City Services Bill Pandemic Relief Program.” VBgov.com, City of Virginia Beach, 2021, www.vbgov.com/government/departments/public-utilities/customer-service/Pages/CSPandemicRelief.aspx. \n",
    "\n",
    "6. “Coronavirus.” City of Virginia Beach, City of Virginia Beach, 2021, emergency.vbgov.com/coronavirus.\n",
    "\n",
    "6. “City Awards Additional $12.4 Million to the Virginia Beach Pandemic Relief Partnership.” VBgov.com, City of Virginia Beach, 22 Mar. 2021, www.vbgov.com/news/pages/selected.aspx?release=5196&amp;title=city%2Bawards%2Badditional%2B%2412.4%2Bmillion%2Bto%2Bthe%2Bvirginia%2Bbeach%2Bpandemic%2Brelief%2Bpartnership. \n",
    "\n",
    "6. “COVID Rent Relief Extension Program.” Homes and Community Renewal, NY Gov, 2021, hcr.ny.gov/RRP.\n",
    "\n",
    "7. “COVID-19 Case and Testing Data by ZIP Code.” Virginia.gov, Virginia Department of Health, 2021, www.vdh.virginia.gov/coronavirus/covid-19-data-insights/covid-19-case-and-testing-data-by-zip-code/.\n",
    "\n",
    "8. “COVID-19 Emergency Relief Fund.” NYC Gov, NYC, 2021, www1.nyc.gov/site/fund/initiatives/covid-19-emergency-relief-fund.page. \n",
    "\n",
    "8. “COVID-19.” BPHC, Boston Public Health Commission, 2021, www.bphc.org/whatwedo/infectious-diseases/Infectious-Diseases-A-to-Z/covid-19/Pages/default.aspx.  \n",
    "\n",
    "9. “COVID-19: Guidance for Businesses and Schools.” NYC.gov, NYC Health, 2021, www.nyc.gov/site/doh/covid/covid-19-businesses-and-facilities.page.  \n",
    "\n",
    "10. “COVID-19: Housing Response.” Boston.gov, City of Boston, 10 Apr. 2020, www.boston.gov/news/covid-19-housing-response. \n",
    "\n",
    "11. “COVID-19: Reopening in the City of Boston.” Boston.gov, City of Boston, 9 May 2020, www.boston.gov/health-and-human-services/covid-19-reopening-city-boston.\n",
    "\n",
    "12. “HRT Response to Coronavirus.” Hampton Roads Transit, Hampton Roads Transit, 13 June 2020, gohrt.com/2020/03/hrt-response-to-coronavirus/.\n",
    "\n",
    "13. Johnson, Akilah. “That Was No Typo: The Median Net Worth of Black Bostonians Really Is $8 - The Boston Globe.” BostonGlobe.com, The Boston Globe, 11 Dec. 2017, www.bostonglobe.com/metro/2017/12/11/that-was-typo-the-median-net-worth-black-bostonians-really/ze5kxC1jJelx24M3pugFFN/story.html. \n",
    "\n",
    "14. Klein, Asher. “Boston Mayor Walsh: 'This Virus Does Not Go Away During the Holiday Season'.” NBC Boston, NBC10 Boston, 22 Dec. 2020, www.nbcboston.com/news/coronavirus/boston-mayor-marty-walsh-covid-update-tuesday/2263962/. \n",
    "\n",
    "15. “Mayor Walsh Declares Racism a Public Health Crisis.” Boston.gov, City of Boston, 12 June 2020, www.boston.gov/news/mayor-walsh-declares-racism-public-health-crisis.\n",
    "\n",
    "420. “MBTA Ridership Slowly Increasing After Record Lows.” WBUR News, WBUR, 16 June 2020, www.wbur.org/news/2020/06/16/mbta-ridership-slowly-increasing. \n",
    "\n",
    "16. “MTA Service during the Coronavirus Pandemic.” MTA, MTA, 2021, new.mta.info/coronavirus.\n",
    "\n",
    "17. “NYC Coronavirus Disease 2019 (COVID-19) Data.” GitHub, NYC Health, 2021, github.com/nychealth/coronavirus-data.\n",
    "\n",
    "18. “New Mortgage Relief Partnership to Aid Homeowners during COVID-19 Pandemic.” Boston.gov, City of Boston, 9 Apr. 2020, www.boston.gov/news/new-mortgage-relief-partnership-aid-homeowners-during-covid-19-pandemic. \n",
    "\n",
    "19. Phillip, Abby, and Jeff Simon. “'We Cannot Go Back to Normal': Boston's New Mayor Sees a Mandate for Racial Equity in Post-Covid Era.” CNN, Cable News Network, 11 Apr. 2021, www.cnn.com/2021/04/11/politics/kim-janey-boston-mayor-profile/index.html. \n",
    "\n",
    "20. “A Recovery for All of Us: Mayor De Blasio Announces Nation's First Ever Racial Justice Commission To Root Out Systemic and Institutional Racism.” NYC.gov, City of New York, 23 Mar. 2021, www.nyc.gov/office-of-the-mayor/news/212-21/recovery-all-us-mayor-de-blasio-nation-s-first-ever-racial-justice-commission.  \n",
    "\n",
    "21. “Resources for New Yorkers.” NYC.gov, NYC Health, www.nyc.gov/site/coronavirus/resources/resources-for-new-yorkers.page#food.  \n",
    "\n",
    "22. Staff Reports. “Boston to Enter Phase 3, Step 1 of COVID Reopening Plan on Feb. 1: Walsh.” NBC Boston, NBC10 Boston, 26 Jan. 2021, www.nbcboston.com/news/local/boston-mayor-walsh-to-provide-coronavirus-update-7/2286804/\n",
    "\n",
    "999. “US Zip Codes Database.” Simplemaps, 2021, simplemaps.com/data/us-zips. "
   ]
  }
 ],
 "metadata": {
  "colab": {
   "collapsed_sections": [],
   "name": "Main Project Notebook.ipynb",
   "provenance": []
  },
  "kernelspec": {
   "display_name": "Python 3",
   "language": "python",
   "name": "python3"
  },
  "language_info": {
   "codemirror_mode": {
    "name": "ipython",
    "version": 3
   },
   "file_extension": ".py",
   "mimetype": "text/x-python",
   "name": "python",
   "nbconvert_exporter": "python",
   "pygments_lexer": "ipython3",
   "version": "3.8.3"
  }
 },
 "nbformat": 4,
 "nbformat_minor": 1
}
